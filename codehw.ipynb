{
  "nbformat": 4,
  "nbformat_minor": 0,
  "metadata": {
    "colab": {
      "provenance": [],
      "authorship_tag": "ABX9TyMdEj4WvGZa4Qrlph9V1NuK",
      "include_colab_link": true
    },
    "kernelspec": {
      "name": "python3",
      "display_name": "Python 3"
    },
    "language_info": {
      "name": "python"
    }
  },
  "cells": [
    {
      "cell_type": "markdown",
      "metadata": {
        "id": "view-in-github",
        "colab_type": "text"
      },
      "source": [
        "<a href=\"https://colab.research.google.com/github/583555/codingclub/blob/main/codehw.ipynb\" target=\"_parent\"><img src=\"https://colab.research.google.com/assets/colab-badge.svg\" alt=\"Open In Colab\"/></a>"
      ]
    },
    {
      "cell_type": "code",
      "execution_count": null,
      "metadata": {
        "colab": {
          "base_uri": "https://localhost:8080/"
        },
        "id": "bhApNsL3QOeg",
        "outputId": "413ac5aa-98e6-4235-8b0a-c77776e15f39"
      },
      "outputs": [
        {
          "output_type": "stream",
          "name": "stdout",
          "text": [
            "80\n",
            "7\n"
          ]
        }
      ],
      "source": [
        "def get_scores_data(scores_list):\n",
        "  highest_score = max(scores_list)\n",
        "  lowest_score = min(scores_list)\n",
        "  return highest_score, lowest_score\n",
        "scores = [31, 7, 80]\n",
        "data = get_scores_data(scores)\n",
        "highest = data[0]\n",
        "lowest = data[1]\n",
        "print(highest)\n",
        "print(lowest)"
      ]
    },
    {
      "cell_type": "code",
      "source": [
        "data = [(\"Diane\", 50), (\"Jack\", 30), (\"Mark\", 24)]\n",
        "data_2 = []\n",
        "for i in range(len(data)):\n",
        "  data_2.append(data[i])\n",
        "print(data_2)"
      ],
      "metadata": {
        "colab": {
          "base_uri": "https://localhost:8080/"
        },
        "id": "aAnCfP4uXKn7",
        "outputId": "25a204f1-dd21-412f-8715-01232f7fc880"
      },
      "execution_count": null,
      "outputs": [
        {
          "output_type": "stream",
          "name": "stdout",
          "text": [
            "[('Diane', 50), ('Jack', 30), ('Mark', 24)]\n"
          ]
        }
      ]
    },
    {
      "cell_type": "code",
      "source": [
        "for c in \"Hello\":\n",
        "  print(c)"
      ],
      "metadata": {
        "colab": {
          "base_uri": "https://localhost:8080/"
        },
        "id": "eGrOy5Jyb6Dk",
        "outputId": "013a7b52-aaf9-46fb-ba8f-39f61995a6ec"
      },
      "execution_count": null,
      "outputs": [
        {
          "output_type": "stream",
          "name": "stdout",
          "text": [
            "H\n",
            "e\n",
            "l\n",
            "l\n",
            "o\n"
          ]
        }
      ]
    }
  ]
}